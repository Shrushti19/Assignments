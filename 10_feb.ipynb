{
 "cells": [
  {
   "cell_type": "code",
   "execution_count": 1,
   "id": "20df3649-8ec7-4381-832b-404b5af6add4",
   "metadata": {},
   "outputs": [
    {
     "data": {
      "text/plain": [
       "'\\nopen(filename,mode)\\ndifferent types of mode of opening a file\\nr -for reading\\nr+ -for reading and writing\\nw -for writing\\nw+ -for reading and writing\\na -for wrting and data is inserted at the end\\na+ -for reading and writing\\n'"
      ]
     },
     "execution_count": 1,
     "metadata": {},
     "output_type": "execute_result"
    }
   ],
   "source": [
    "#Q1. Which function is used to open a file? What are the different modes of opening a file? Explain each mode of file opening.\n",
    "'''\n",
    "open(filename,mode)\n",
    "different types of mode of opening a file\n",
    "r -for reading\n",
    "r+ -for reading and writing\n",
    "w -for writing\n",
    "w+ -for reading and writing\n",
    "a -for wrting and data is inserted at the end\n",
    "a+ -for reading and writing\n",
    "'''"
   ]
  },
  {
   "cell_type": "code",
   "execution_count": 2,
   "id": "3d5962f8-a2ba-4ddf-8e80-86bb0e2a6f80",
   "metadata": {},
   "outputs": [
    {
     "data": {
      "text/plain": [
       "'\\nThe close() method closes an open file.\\nYou should always close your files, in some cases, due to buffering, changes made to a file may not show until you close the file.\\nsyntax-file.close()\\n'"
      ]
     },
     "execution_count": 2,
     "metadata": {},
     "output_type": "execute_result"
    }
   ],
   "source": [
    "#Q2. Why close() function is used? Why is it important to close a file?\n",
    "'''\n",
    "The close() method closes an open file.\n",
    "You should always close your files, in some cases, due to buffering, changes made to a file may not show until you close the file.\n",
    "syntax-file.close()\n",
    "'''\n"
   ]
  },
  {
   "cell_type": "code",
   "execution_count": 3,
   "id": "9eeb1367-6483-4cdb-bc29-60693c7dc8c2",
   "metadata": {},
   "outputs": [],
   "source": [
    "#Q3. Write a python program to create a text file. Write ‘I want to become a Data Scientist’ in that file. Then close the file. Open this file and read the content of the file.\n",
    "f  = open(\"a.txt\", \"w\")\n",
    "f.write(\"I want to become a Data Scientist\")\n",
    "f.close()"
   ]
  },
  {
   "cell_type": "code",
   "execution_count": 4,
   "id": "b29ebe3e-f19d-485e-8853-c94ac6cfa55f",
   "metadata": {},
   "outputs": [
    {
     "data": {
      "text/plain": [
       "'I want to become a Data Scientist'"
      ]
     },
     "execution_count": 4,
     "metadata": {},
     "output_type": "execute_result"
    }
   ],
   "source": [
    "f =open(\"a.txt\",\"r\")\n",
    "f.read()"
   ]
  },
  {
   "cell_type": "code",
   "execution_count": 5,
   "id": "371028a7-015a-46c4-8e6e-1c8a2cf8823b",
   "metadata": {},
   "outputs": [],
   "source": [
    "#Q4. Explain the following with python code: read(), readline() and readlines().\n",
    "'''\n",
    "read()-method returns the specified number of bytes from the file. Default is -1 which means the whole file.\n",
    "readline()-method will return a line from the file when called.\n",
    "readlines()-method will return all the lines in a file in the format of a list where each element is a line in the file.\n",
    "'''\n",
    "f = open(\"b.txt\",\"w\")\n",
    "f.write(\"Python is a high-level, general-purpose programming language. Its design philosophy emphasizes code readability with the use of significant indentation. Python is dynamically typed and garbage-collected. It supports multiple programming paradigms, including structured, object-oriented and functional programming. Wikipedia\\nDesigned by: Guido van Rossum\\nFirst appeared: 20 February 1991; 31 years ago\\nOS: Windows, macOS, Linux/UNIX, Android and more\\nFilename extensions: .py,.pyi,.pyc,.pyd,.pyw,.pyz (since 3.5),.pyo (prior to 3.5)\\nParadigm: Multi-paradigm: object-oriented, procedural (imperative), functional, structured, reflective\\nPreview release: 3.12.0a5 / 7 February 2023; 2 days ago\\nParent company: Python Software Foundation\")\n",
    "f.close()"
   ]
  },
  {
   "cell_type": "code",
   "execution_count": 6,
   "id": "a40baaaf-fc0d-496b-9b8d-e62dfe1e4915",
   "metadata": {},
   "outputs": [
    {
     "data": {
      "text/plain": [
       "'Python is a high-level, general-purpose programming language. Its design philosophy emphasizes code readability with the use of significant indentation. Python is dynamically typed and garbage-collected. It supports multiple programming paradigms, including structured, object-oriented and functional programming. Wikipedia\\nDesigned by: Guido van Rossum\\nFirst appeared: 20 February 1991; 31 years ago\\nOS: Windows, macOS, Linux/UNIX, Android and more\\nFilename extensions: .py,.pyi,.pyc,.pyd,.pyw,.pyz (since 3.5),.pyo (prior to 3.5)\\nParadigm: Multi-paradigm: object-oriented, procedural (imperative), functional, structured, reflective\\nPreview release: 3.12.0a5 / 7 February 2023; 2 days ago\\nParent company: Python Software Foundation'"
      ]
     },
     "execution_count": 6,
     "metadata": {},
     "output_type": "execute_result"
    }
   ],
   "source": [
    "f=open(\"b.txt\",\"r\")\n",
    "f.read()"
   ]
  },
  {
   "cell_type": "code",
   "execution_count": 7,
   "id": "a65bcd12-d29a-4697-99e6-a5d3d5ccca8f",
   "metadata": {},
   "outputs": [
    {
     "data": {
      "text/plain": [
       "'Python is a high-level, general-purpose programming language. Its design philosophy emphasizes code readability with the use of significant indentation. Python is dynamically typed and garbage-collected. It supports multiple programming paradigms, including structured, object-oriented and functional programming. Wikipedia\\n'"
      ]
     },
     "execution_count": 7,
     "metadata": {},
     "output_type": "execute_result"
    }
   ],
   "source": [
    "f=open(\"b.txt\",\"r\")\n",
    "f.readline()"
   ]
  },
  {
   "cell_type": "code",
   "execution_count": 8,
   "id": "4e788a37-a081-4756-82f5-66f0f9b0fa1d",
   "metadata": {},
   "outputs": [
    {
     "data": {
      "text/plain": [
       "['Python is a high-level, general-purpose programming language. Its design philosophy emphasizes code readability with the use of significant indentation. Python is dynamically typed and garbage-collected. It supports multiple programming paradigms, including structured, object-oriented and functional programming. Wikipedia\\n',\n",
       " 'Designed by: Guido van Rossum\\n',\n",
       " 'First appeared: 20 February 1991; 31 years ago\\n',\n",
       " 'OS: Windows, macOS, Linux/UNIX, Android and more\\n',\n",
       " 'Filename extensions: .py,.pyi,.pyc,.pyd,.pyw,.pyz (since 3.5),.pyo (prior to 3.5)\\n',\n",
       " 'Paradigm: Multi-paradigm: object-oriented, procedural (imperative), functional, structured, reflective\\n',\n",
       " 'Preview release: 3.12.0a5 / 7 February 2023; 2 days ago\\n',\n",
       " 'Parent company: Python Software Foundation']"
      ]
     },
     "execution_count": 8,
     "metadata": {},
     "output_type": "execute_result"
    }
   ],
   "source": [
    "f=open(\"b.txt\",\"r\")\n",
    "f.readlines()"
   ]
  },
  {
   "cell_type": "code",
   "execution_count": 9,
   "id": "fc834264-7cf9-4db2-a783-ba0a5999472e",
   "metadata": {},
   "outputs": [
    {
     "data": {
      "text/plain": [
       "'In Python, with statement is used in exception handling to make the code cleaner and much more readable. It simplifies the management of common resources like file streams.'"
      ]
     },
     "execution_count": 9,
     "metadata": {},
     "output_type": "execute_result"
    }
   ],
   "source": [
    "#Q5. Explain why with statement is used with open(). What is the advantage of using with statement and open() together?\n",
    "'''In Python, with statement is used in exception handling to make the code cleaner and much more readable. It simplifies the management of common resources like file streams.'''"
   ]
  },
  {
   "cell_type": "code",
   "execution_count": 10,
   "id": "8e924c23-bf4a-4cea-987c-3590f667deba",
   "metadata": {},
   "outputs": [
    {
     "data": {
      "text/plain": [
       "'\\nwrite()-is used to write a string to an already opened file\\nwritelines()-method is used to write a list of strings in an opened file\\n'"
      ]
     },
     "execution_count": 10,
     "metadata": {},
     "output_type": "execute_result"
    }
   ],
   "source": [
    "#Q6. Explain the write() and writelines() functions. Give a suitable example.\n",
    "'''\n",
    "write()-is used to write a string to an already opened file\n",
    "writelines()-method is used to write a list of strings in an opened file\n",
    "'''"
   ]
  },
  {
   "cell_type": "code",
   "execution_count": 11,
   "id": "d2cf14a1-ff9e-4fd2-bec6-4f3dccd2ab58",
   "metadata": {},
   "outputs": [
    {
     "name": "stdin",
     "output_type": "stream",
     "text": [
      "Enter the name of the employee:  shrushti\n",
      "Enter the name of the employee:  nisha\n",
      "Enter the name of the employee:  aisha\n"
     ]
    },
    {
     "name": "stdout",
     "output_type": "stream",
     "text": [
      "Data is written into the file.\n"
     ]
    }
   ],
   "source": [
    "file = open(\"Employees.txt\", \"w\")\n",
    "\n",
    "for i in range(3):\n",
    "    name = input(\"Enter the name of the employee: \")\n",
    "    file.write(name)\n",
    "    file.write(\"\\n\")\n",
    "\t\n",
    "file.close()\n",
    "\n",
    "print(\"Data is written into the file.\")\n"
   ]
  },
  {
   "cell_type": "code",
   "execution_count": 12,
   "id": "b4f90cfa-2198-417c-889d-b2625f672451",
   "metadata": {},
   "outputs": [
    {
     "name": "stdin",
     "output_type": "stream",
     "text": [
      "Enter the name of the employee:  aliya\n",
      "Enter the name of the employee:  khushi\n",
      "Enter the name of the employee:  tia\n"
     ]
    },
    {
     "name": "stdout",
     "output_type": "stream",
     "text": [
      "Data is written into the file.\n"
     ]
    }
   ],
   "source": [
    "file1 = open(\"Employees.txt\", \"w\")\n",
    "lst = []\n",
    "for i in range(3):\n",
    "\tname = input(\"Enter the name of the employee: \")\n",
    "\tlst.append(name + '\\n')\n",
    "\t\n",
    "file1.writelines(lst)\n",
    "file1.close()\n",
    "print(\"Data is written into the file.\")\n"
   ]
  },
  {
   "cell_type": "code",
   "execution_count": null,
   "id": "d1b6b2eb-28f1-44ca-b0fd-3d090946b744",
   "metadata": {},
   "outputs": [],
   "source": []
  }
 ],
 "metadata": {
  "kernelspec": {
   "display_name": "Python 3 (ipykernel)",
   "language": "python",
   "name": "python3"
  },
  "language_info": {
   "codemirror_mode": {
    "name": "ipython",
    "version": 3
   },
   "file_extension": ".py",
   "mimetype": "text/x-python",
   "name": "python",
   "nbconvert_exporter": "python",
   "pygments_lexer": "ipython3",
   "version": "3.10.6"
  }
 },
 "nbformat": 4,
 "nbformat_minor": 5
}
