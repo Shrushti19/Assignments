{
 "cells": [
  {
   "cell_type": "code",
   "execution_count": 1,
   "id": "ec0d1994-9d87-4faa-8df9-2bf32b40a1c4",
   "metadata": {},
   "outputs": [
    {
     "data": {
      "text/plain": [
       "'Abstraction is the process of hiding the internal details of an application from the outer world. \\nAbstraction is used to describe things in simple terms. \\nIt’s used to create a boundary between the application and the client programs.\\nYour car is a great example of abstraction.\\nYou can start a car by turning the key or pressing the start button. \\nYou don’t need to know how the engine is getting started, what all components your car has.\\nThe car internal implementation and complex logic is completely hidden from the user.\\nObjects are the building blocks of Object-Oriented Programming.\\nAn object contains some properties and methods. We can hide them from the outer world through access modifiers.\\nWe can provide access only for required functions and properties to the other programs. \\nThis is the general procedure to implement abstraction in OOPS.\\nThere are two types of abstraction.\\n1.Data Abstraction\\n2.Process Abstraction'"
      ]
     },
     "execution_count": 1,
     "metadata": {},
     "output_type": "execute_result"
    }
   ],
   "source": [
    "#Q1. What is Abstraction in OOps? Explain with an example.\n",
    "'''Abstraction is the process of hiding the internal details of an application from the outer world. \n",
    "Abstraction is used to describe things in simple terms. \n",
    "It’s used to create a boundary between the application and the client programs.\n",
    "Your car is a great example of abstraction.\n",
    "You can start a car by turning the key or pressing the start button. \n",
    "You don’t need to know how the engine is getting started, what all components your car has.\n",
    "The car internal implementation and complex logic is completely hidden from the user.\n",
    "Objects are the building blocks of Object-Oriented Programming.\n",
    "An object contains some properties and methods. We can hide them from the outer world through access modifiers.\n",
    "We can provide access only for required functions and properties to the other programs. \n",
    "This is the general procedure to implement abstraction in OOPS.\n",
    "There are two types of abstraction.\n",
    "1.Data Abstraction\n",
    "2.Process Abstraction'''"
   ]
  },
  {
   "cell_type": "code",
   "execution_count": 2,
   "id": "4e402b02-6bc2-4f5b-a14a-629351c9fd2e",
   "metadata": {},
   "outputs": [
    {
     "data": {
      "text/plain": [
       "'Abstraction is hiding the details and implementation of the code.\\nEncapsulation is hiding the data and controlling the visibility of the code.\\nAbstraction is used in mobile phones’ GUI.\\nWhen you click on the icons, abstraction allows them to perform specific functions. \\nLet’s look at the encapsulation example to clarify the Encapsulation vs Abstraction.\\nAfter the icon is clicked, the encapsulation works in the backend to guide the user on the next steps.'"
      ]
     },
     "execution_count": 2,
     "metadata": {},
     "output_type": "execute_result"
    }
   ],
   "source": [
    "#Q2. Differentiate between Abstraction and Encapsulation. Explain with an example.\n",
    "'''Abstraction is hiding the details and implementation of the code.\n",
    "Encapsulation is hiding the data and controlling the visibility of the code.\n",
    "Abstraction is used in mobile phones’ GUI.\n",
    "When you click on the icons, abstraction allows them to perform specific functions. \n",
    "Let’s look at the encapsulation example to clarify the Encapsulation vs Abstraction.\n",
    "After the icon is clicked, the encapsulation works in the backend to guide the user on the next steps.'''"
   ]
  },
  {
   "cell_type": "code",
   "execution_count": 3,
   "id": "c20ab78f-2c84-4af3-8667-3e1ad3ed335d",
   "metadata": {},
   "outputs": [
    {
     "data": {
      "text/plain": [
       "\"The 'abc' module in Python library provides the infrastructure for defining custom abstract base classes.\\n'abc' works by marking methods of the base class as abstract. This is done by @absttractmethod decorator. \""
      ]
     },
     "execution_count": 3,
     "metadata": {},
     "output_type": "execute_result"
    }
   ],
   "source": [
    "#Q3. What is abc module in python? Why is it used?\n",
    "'''The 'abc' module in Python library provides the infrastructure for defining custom abstract base classes.\n",
    "'abc' works by marking methods of the base class as abstract. This is done by @absttractmethod decorator. '''"
   ]
  },
  {
   "cell_type": "code",
   "execution_count": 4,
   "id": "9234b97c-f556-41f0-b2b4-de84b132d33e",
   "metadata": {},
   "outputs": [
    {
     "data": {
      "text/plain": [
       "'Data Abstraction in Python can be achieved through creating abstract classes and inheriting them later.'"
      ]
     },
     "execution_count": 4,
     "metadata": {},
     "output_type": "execute_result"
    }
   ],
   "source": [
    "#Q4. How can we achieve data abstraction?\n",
    "'''Data Abstraction in Python can be achieved through creating abstract classes and inheriting them later.''' "
   ]
  },
  {
   "cell_type": "code",
   "execution_count": 5,
   "id": "9e492a1a-aabd-4bc9-ac09-672a8a7fa241",
   "metadata": {},
   "outputs": [
    {
     "ename": "ModuleNotFoundError",
     "evalue": "No module named 'Shape'",
     "output_type": "error",
     "traceback": [
      "\u001b[0;31m---------------------------------------------------------------------------\u001b[0m",
      "\u001b[0;31mModuleNotFoundError\u001b[0m                       Traceback (most recent call last)",
      "Cell \u001b[0;32mIn [5], line 7\u001b[0m\n\u001b[1;32m      1\u001b[0m \u001b[38;5;66;03m#Q5. Can we create an instance of an abstract class? Explain your answer.\u001b[39;00m\n\u001b[1;32m      2\u001b[0m \u001b[38;5;124;03m'''Abstract classes cannot be instantiated.\u001b[39;00m\n\u001b[1;32m      3\u001b[0m \u001b[38;5;124;03mAbstract classes are not complete, as they may have some methods that are not defined.\u001b[39;00m\n\u001b[1;32m      4\u001b[0m \u001b[38;5;124;03mSo we cannot create an instance or object of an abstract class in Python.\u001b[39;00m\n\u001b[1;32m      5\u001b[0m \u001b[38;5;124;03mIf we try to instantiate the abstract class, it raises an error.\u001b[39;00m\n\u001b[1;32m      6\u001b[0m \u001b[38;5;124;03m'''\u001b[39;00m\n\u001b[0;32m----> 7\u001b[0m \u001b[38;5;28;01mfrom\u001b[39;00m \u001b[38;5;21;01mShape\u001b[39;00m \u001b[38;5;28;01mimport\u001b[39;00m Shape\n\u001b[1;32m      9\u001b[0m \u001b[38;5;28;01mtry\u001b[39;00m :\n\u001b[1;32m     10\u001b[0m     shape \u001b[38;5;241m=\u001b[39m Shape()\n",
      "\u001b[0;31mModuleNotFoundError\u001b[0m: No module named 'Shape'"
     ]
    }
   ],
   "source": [
    "#Q5. Can we create an instance of an abstract class? Explain your answer.\n",
    "'''Abstract classes cannot be instantiated.\n",
    "Abstract classes are not complete, as they may have some methods that are not defined.\n",
    "So we cannot create an instance or object of an abstract class in Python.\n",
    "If we try to instantiate the abstract class, it raises an error.\n",
    "'''\n",
    "from Shape import Shape\n",
    " \n",
    "try :\n",
    "    shape = Shape()\n",
    "except Exception as error:\n",
    "    print(\"===========ERROR OCCURRED===============\")\n",
    "    print(error)"
   ]
  },
  {
   "cell_type": "code",
   "execution_count": null,
   "id": "303b7227-647a-4e28-9bba-668033943e58",
   "metadata": {},
   "outputs": [],
   "source": []
  }
 ],
 "metadata": {
  "kernelspec": {
   "display_name": "Python 3 (ipykernel)",
   "language": "python",
   "name": "python3"
  },
  "language_info": {
   "codemirror_mode": {
    "name": "ipython",
    "version": 3
   },
   "file_extension": ".py",
   "mimetype": "text/x-python",
   "name": "python",
   "nbconvert_exporter": "python",
   "pygments_lexer": "ipython3",
   "version": "3.10.6"
  }
 },
 "nbformat": 4,
 "nbformat_minor": 5
}
