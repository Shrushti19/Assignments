{
 "cells": [
  {
   "cell_type": "code",
   "execution_count": 1,
   "id": "e9f8b0aa-60c9-4e76-ab82-059af8e0f6a4",
   "metadata": {},
   "outputs": [
    {
     "name": "stdin",
     "output_type": "stream",
     "text": [
      "Enter the Percentage 89\n"
     ]
    },
    {
     "name": "stdout",
     "output_type": "stream",
     "text": [
      "B\n"
     ]
    }
   ],
   "source": [
    "n = int(input(\"Enter the Percentage\"))\n",
    "if n > 90 :\n",
    "    print(\"A\")\n",
    "elif n>80 and n<=90 :\n",
    "    print(\"B\")\n",
    "elif n>=60 and n<=80 :\n",
    "    print(\"C\")\n",
    "else :\n",
    "    print(\"D\")"
   ]
  },
  {
   "cell_type": "code",
   "execution_count": 10,
   "id": "47da01a4-1886-4d9f-9399-366ab3f87ffb",
   "metadata": {},
   "outputs": [
    {
     "name": "stdin",
     "output_type": "stream",
     "text": [
      "Enter the City Agra\n"
     ]
    },
    {
     "name": "stdout",
     "output_type": "stream",
     "text": [
      "Taj Mahal\n"
     ]
    }
   ],
   "source": [
    "c = input(\"Enter the City\")\n",
    "if c == \"Delhi\" : \n",
    "    print(\"Red Fort\")\n",
    "elif c == \"Agra\" :\n",
    "    print(\"Taj Mahal\")\n",
    "elif c == \"Jaipur\" :\n",
    "    print(\"Jal Mahal\")\n",
    "else :\n",
    "    print(\"Enter the valid city\")"
   ]
  },
  {
   "cell_type": "code",
   "execution_count": 3,
   "id": "f842242c-6f10-4aa8-8afd-c31c21cba5ed",
   "metadata": {},
   "outputs": [
    {
     "name": "stdin",
     "output_type": "stream",
     "text": [
      "Enter the Cost Price 22\n"
     ]
    },
    {
     "name": "stdout",
     "output_type": "stream",
     "text": [
      "Tax to Paid is 5%\n"
     ]
    }
   ],
   "source": [
    "cost = int(input(\"Enter the Cost Price\"))\n",
    "if cost > 100000 :\n",
    "    print(\"Tax to Paid is 15%\")\n",
    "elif cost>50000 and cost<=100000 :\n",
    "    print(\"Tax to Paid is 10%\")\n",
    "elif cost<=50000 :\n",
    "    print(\"Tax to Paid is 5%\")\n",
    "else :\n",
    "    print(\"Invalid Cost\")\n",
    "   "
   ]
  },
  {
   "cell_type": "code",
   "execution_count": 2,
   "id": "97303f8f-f384-46c5-80fe-b374f14a53cc",
   "metadata": {},
   "outputs": [
    {
     "name": "stdin",
     "output_type": "stream",
     "text": [
      "Enter the number 13\n"
     ]
    },
    {
     "name": "stdout",
     "output_type": "stream",
     "text": [
      "the number can be divided 1 times\n"
     ]
    }
   ],
   "source": [
    "num = int(input(\"Enter the number\"))\n",
    "i = 0\n",
    "while num>10 :\n",
    "    num = num/3\n",
    "    i = i+1\n",
    "print(\"the number can be divided\",i,\"times\")"
   ]
  },
  {
   "cell_type": "code",
   "execution_count": 4,
   "id": "370edfe7-34a8-48c4-8229-e4b9f73c0deb",
   "metadata": {},
   "outputs": [
    {
     "name": "stdout",
     "output_type": "stream",
     "text": [
      "0\n",
      "1\n",
      "2\n",
      "3\n",
      "4\n",
      "5\n",
      "6\n",
      "7\n",
      "8\n",
      "9\n"
     ]
    }
   ],
   "source": [
    "'''\n",
    "Loops are used to repeat a block of code\n",
    "for example,if we want to show a message 100 times \n",
    "Python while loop is used to run a block of code until a certain condition is met\n",
    "\n",
    "syntax:\n",
    "while condition:\n",
    "    # body of while loop\n",
    "'''\n",
    "\n",
    "i = 0\n",
    "while i < 10 :\n",
    "    print(i)\n",
    "    i = i + 1"
   ]
  },
  {
   "cell_type": "code",
   "execution_count": 11,
   "id": "07047e47-4375-425e-871d-65d1846b3e02",
   "metadata": {},
   "outputs": [
    {
     "name": "stdout",
     "output_type": "stream",
     "text": [
      "1  \n",
      "1 2  \n",
      "1 2 3  \n",
      "1 2 3 4  \n",
      "1 2 3 4 5  \n"
     ]
    }
   ],
   "source": [
    "i = 1\n",
    "while i <= 5:\n",
    "    j = 1\n",
    "    while j <= i :\n",
    "        print(j,end=\" \")\n",
    "        j = j + 1\n",
    "    print(\" \")\n",
    "    i = i + 1"
   ]
  },
  {
   "cell_type": "code",
   "execution_count": 11,
   "id": "29c1ef65-d521-478f-a218-d2363a3bbf01",
   "metadata": {},
   "outputs": [
    {
     "name": "stdout",
     "output_type": "stream",
     "text": [
      "1  \n",
      "1 2  \n",
      "1 2 3  \n",
      "1 2 3 4  \n",
      "1 2 3 4 5  \n"
     ]
    }
   ],
   "source": [
    "i = 1\n",
    "while i <= 5:\n",
    "    j = 1\n",
    "    while j <= i :\n",
    "        print(j,end=\" \")\n",
    "        j = j + 1\n",
    "    print(\" \")\n",
    "    i = i + 1"
   ]
  },
  {
   "cell_type": "code",
   "execution_count": 14,
   "id": "d05588e0-a945-4d8f-80a7-0089ee991328",
   "metadata": {},
   "outputs": [
    {
     "name": "stdout",
     "output_type": "stream",
     "text": [
      "1  \n",
      "2 2  \n",
      "3 3 3  \n",
      "4 4 4 4  \n",
      "5 5 5 5 5  \n"
     ]
    }
   ],
   "source": [
    "i = 1\n",
    "while i <= 5:\n",
    "    j = 1\n",
    "    while j <= i :\n",
    "        print(i,end=\" \")\n",
    "        j = j + 1\n",
    "    print(\" \")\n",
    "    i = i + 1"
   ]
  },
  {
   "cell_type": "code",
   "execution_count": null,
   "id": "cd2837af-35a7-43f3-aa9a-eb518ed635c6",
   "metadata": {},
   "outputs": [
    {
     "name": "stdout",
     "output_type": "stream",
     "text": [
      "10\n",
      "9\n",
      "8\n",
      "7\n",
      "6\n",
      "5\n",
      "4\n",
      "3\n",
      "2\n",
      "1\n",
      "0\n"
     ]
    }
   ],
   "source": [
    "a = 10\n",
    "\n",
    "while a>0:\n",
    "    print(a)\n",
    "    a = a - 1"
   ]
  },
  {
   "cell_type": "code",
   "execution_count": null,
   "id": "3ede08d3-eaef-4927-8dcb-9c0a3ecafb5f",
   "metadata": {},
   "outputs": [],
   "source": []
  },
  {
   "cell_type": "code",
   "execution_count": null,
   "id": "546cb5b4-7464-4042-9fef-d73273dcfb3c",
   "metadata": {},
   "outputs": [],
   "source": []
  }
 ],
 "metadata": {
  "kernelspec": {
   "display_name": "Python 3 (ipykernel)",
   "language": "python",
   "name": "python3"
  },
  "language_info": {
   "codemirror_mode": {
    "name": "ipython",
    "version": 3
   },
   "file_extension": ".py",
   "mimetype": "text/x-python",
   "name": "python",
   "nbconvert_exporter": "python",
   "pygments_lexer": "ipython3",
   "version": "3.10.6"
  }
 },
 "nbformat": 4,
 "nbformat_minor": 5
}
