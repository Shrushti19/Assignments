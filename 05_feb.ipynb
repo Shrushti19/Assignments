{
 "cells": [
  {
   "cell_type": "code",
   "execution_count": 1,
   "id": "94bd2ebf-24b9-4dee-b491-b47190edbdfe",
   "metadata": {},
   "outputs": [
    {
     "data": {
      "text/plain": [
       "'Q1. Explain Class and Object with respect to Object-Oriented Programming.\\nGive a suitable example.\\nOBJECT -\\nobject have states and behaviors.\\nexample: A dog has states - color,name,breed as well as behaviors - wagging the tail,barking,eating.\\nAn object is an instance of a class.\\nCLASS -\\nclass can be defined as a template/blueprint that describes the behavior/state that the object of its type support.\\n'"
      ]
     },
     "execution_count": 1,
     "metadata": {},
     "output_type": "execute_result"
    }
   ],
   "source": [
    "'''Q1. Explain Class and Object with respect to Object-Oriented Programming.\n",
    "Give a suitable example.\n",
    "OBJECT -\n",
    "object have states and behaviors.\n",
    "example: A dog has states - color,name,breed as well as behaviors - wagging the tail,barking,eating.\n",
    "An object is an instance of a class.\n",
    "CLASS -\n",
    "class can be defined as a template/blueprint that describes the behavior/state that the object of its type support.\n",
    "'''"
   ]
  },
  {
   "cell_type": "code",
   "execution_count": 2,
   "id": "06454496-1c01-4145-b1b6-82b5edfe5a29",
   "metadata": {},
   "outputs": [
    {
     "data": {
      "text/plain": [
       "'Q2. Name the four pillars of OOPs.\\n1.Inheritance\\n2.Polymorphism\\n3.Encapsulation\\n4.Abstraction\\n'"
      ]
     },
     "execution_count": 2,
     "metadata": {},
     "output_type": "execute_result"
    }
   ],
   "source": [
    "'''Q2. Name the four pillars of OOPs.\n",
    "1.Inheritance\n",
    "2.Polymorphism\n",
    "3.Encapsulation\n",
    "4.Abstraction\n",
    "'''"
   ]
  },
  {
   "cell_type": "code",
   "execution_count": 3,
   "id": "f828d75c-12af-4dd5-8e48-bced5aa7f990",
   "metadata": {},
   "outputs": [
    {
     "name": "stdout",
     "output_type": "stream",
     "text": [
      "Hello , my name is  Shrushti\n"
     ]
    }
   ],
   "source": [
    "'''Q3. Explain why the __init__() function is used. Give a suitable example.\n",
    "__init__() are use as a constructor.\n",
    "constructor are used to initialize the object state \n",
    "'''\n",
    "\n",
    "class test :\n",
    "    \n",
    "    def __init__(self,name):\n",
    "        self.name = name\n",
    "    def hi(self):\n",
    "        print(\"Hello , my name is \",self.name)\n",
    "\n",
    "p = test('Shrushti')\n",
    "p.hi()"
   ]
  },
  {
   "cell_type": "code",
   "execution_count": 4,
   "id": "a6c0fb2a-468c-45dd-8ef4-a94d56176796",
   "metadata": {},
   "outputs": [
    {
     "data": {
      "text/plain": [
       "'Q4. Why self is used in OOPs?\\nself - used to represent the instance of the class which is often used in OOP\\nIt works as a reference to the object.\\nused to refer to instance attributes and methods of the class\\n\\nself is not reserved keyword.We can use any name in placed of self.\\n\\n'"
      ]
     },
     "execution_count": 4,
     "metadata": {},
     "output_type": "execute_result"
    }
   ],
   "source": [
    "'''Q4. Why self is used in OOPs?\n",
    "self - used to represent the instance of the class which is often used in OOP\n",
    "It works as a reference to the object.\n",
    "used to refer to instance attributes and methods of the class\n",
    "\n",
    "self is not reserved keyword.We can use any name in placed of self.\n",
    "\n",
    "'''"
   ]
  },
  {
   "cell_type": "code",
   "execution_count": 5,
   "id": "e4ca8787-0d92-4b6d-84c3-6ad5556090dd",
   "metadata": {},
   "outputs": [
    {
     "data": {
      "text/plain": [
       "'Q5. What is inheritance? Give an example for each type of inheritance.\\n\\nInheritance is the property in which one class acquires the property of another class\\nex-\\na child inherits the traits of his/her parents\\n\\nWith the help of inheritance we can reuse the fields and methods of existing class\\nHence,inheritance facilitates Reusability\\nand it is important concept in OOPS....\\n\\nTypes of inheritance\\n1.Single\\n2.Multiple\\n3.Multilevel\\n4.Hierarchical\\n5.Hybrid\\n'"
      ]
     },
     "execution_count": 5,
     "metadata": {},
     "output_type": "execute_result"
    }
   ],
   "source": [
    "'''Q5. What is inheritance? Give an example for each type of inheritance.\n",
    "\n",
    "Inheritance is the property in which one class acquires the property of another class\n",
    "ex-\n",
    "a child inherits the traits of his/her parents\n",
    "\n",
    "With the help of inheritance we can reuse the fields and methods of existing class\n",
    "Hence,inheritance facilitates Reusability\n",
    "and it is important concept in OOPS....\n",
    "\n",
    "Types of inheritance\n",
    "1.Single\n",
    "2.Multiple\n",
    "3.Multilevel\n",
    "4.Hierarchical\n",
    "5.Hybrid\n",
    "'''"
   ]
  }
 ],
 "metadata": {
  "kernelspec": {
   "display_name": "Python 3 (ipykernel)",
   "language": "python",
   "name": "python3"
  },
  "language_info": {
   "codemirror_mode": {
    "name": "ipython",
    "version": 3
   },
   "file_extension": ".py",
   "mimetype": "text/x-python",
   "name": "python",
   "nbconvert_exporter": "python",
   "pygments_lexer": "ipython3",
   "version": "3.10.6"
  }
 },
 "nbformat": 4,
 "nbformat_minor": 5
}
