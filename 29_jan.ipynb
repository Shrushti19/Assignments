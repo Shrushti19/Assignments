{
 "cells": [
  {
   "cell_type": "code",
   "execution_count": 1,
   "id": "b882be54-a7e3-4445-a59b-31e6bee68967",
   "metadata": {},
   "outputs": [],
   "source": [
    "#Guido Van Russon"
   ]
  },
  {
   "cell_type": "code",
   "execution_count": 2,
   "id": "c8256f94-7432-4b9d-b114-6625ba79bc06",
   "metadata": {},
   "outputs": [],
   "source": [
    "#Open source programming"
   ]
  },
  {
   "cell_type": "code",
   "execution_count": 3,
   "id": "17689008-06f6-4ff2-a5ed-1442c00868c1",
   "metadata": {},
   "outputs": [],
   "source": [
    "#yes"
   ]
  },
  {
   "cell_type": "code",
   "execution_count": 4,
   "id": "b8422903-5513-46e7-9342-96c0ebc5682d",
   "metadata": {},
   "outputs": [],
   "source": [
    "#.py"
   ]
  },
  {
   "cell_type": "code",
   "execution_count": 5,
   "id": "01c6cace-d64b-4f1d-82ca-d52fc0a3a481",
   "metadata": {},
   "outputs": [],
   "source": [
    "#interpreted"
   ]
  },
  {
   "cell_type": "code",
   "execution_count": 6,
   "id": "20e3067b-1292-4e63-9630-46fed49a769e",
   "metadata": {},
   "outputs": [],
   "source": [
    "#function,control statements,module"
   ]
  },
  {
   "cell_type": "code",
   "execution_count": 7,
   "id": "a1d11018-c045-47b9-9f0b-1d898291e4e1",
   "metadata": {},
   "outputs": [],
   "source": [
    "# or ##"
   ]
  },
  {
   "cell_type": "code",
   "execution_count": 8,
   "id": "055c7e89-42aa-4872-9a9b-6d2118f9cfa8",
   "metadata": {},
   "outputs": [
    {
     "name": "stdout",
     "output_type": "stream",
     "text": [
      "3.10.6 | packaged by conda-forge | (main, Aug 22 2022, 20:35:26) [GCC 10.4.0]\n"
     ]
    }
   ],
   "source": [
    "#python --version\n",
    "import sys\n",
    "print(sys.version)"
   ]
  },
  {
   "cell_type": "code",
   "execution_count": 9,
   "id": "cf54a002-7db6-418e-ab5f-1782a4ac7f83",
   "metadata": {},
   "outputs": [],
   "source": [
    "#lambda"
   ]
  },
  {
   "cell_type": "code",
   "execution_count": 10,
   "id": "005fe994-6b12-4890-a301-9d1ca927e9b3",
   "metadata": {},
   "outputs": [],
   "source": [
    "#pip is package manager for python you can use pip to install a module on your system"
   ]
  },
  {
   "cell_type": "code",
   "execution_count": 11,
   "id": "8ad3414a-2e93-41be-91cf-ed4c1cd499f9",
   "metadata": {},
   "outputs": [],
   "source": [
    "#type(),sum(),max(),min(),map(),filter(),reduce(),input(),iter(),tuple(),dict(),list(),str(),set(),print(),next(),float(),chr(),bool(),all(),any(),etc."
   ]
  },
  {
   "cell_type": "code",
   "execution_count": 12,
   "id": "9d11149a-02fa-44fb-9494-ea3f5f4afea0",
   "metadata": {},
   "outputs": [],
   "source": [
    "#79 characters"
   ]
  },
  {
   "cell_type": "code",
   "execution_count": 13,
   "id": "6ded977e-7640-463b-936a-c67d0cee6a98",
   "metadata": {},
   "outputs": [
    {
     "data": {
      "text/plain": [
       "'easy and simple to use and understand\\nDynamically typed\\nfree and open source\\nPossible to integrate with other programming language'"
      ]
     },
     "execution_count": 13,
     "metadata": {},
     "output_type": "execute_result"
    }
   ],
   "source": [
    "\"\"\"easy and simple to use and understand\n",
    "Dynamically typed\n",
    "free and open source\n",
    "Possible to integrate with other programming language\"\"\""
   ]
  },
  {
   "cell_type": "code",
   "execution_count": 14,
   "id": "4af9d3f0-b389-42d4-8651-197c241188a2",
   "metadata": {},
   "outputs": [],
   "source": [
    "#by Python private heap space.All Python object and data strutures are located in private heap."
   ]
  },
  {
   "cell_type": "code",
   "execution_count": 15,
   "id": "77700cdd-07ac-4888-a412-6c3beee87eba",
   "metadata": {},
   "outputs": [
    {
     "data": {
      "text/plain": [
       "'firstly install a recent version of python\\nand then checking the box to add Python to path'"
      ]
     },
     "execution_count": 15,
     "metadata": {},
     "output_type": "execute_result"
    }
   ],
   "source": [
    "\"\"\"firstly install a recent version of python\n",
    "and then checking the box to add Python to path\"\"\""
   ]
  },
  {
   "cell_type": "code",
   "execution_count": null,
   "id": "7f969f04-65db-4abb-8cd1-770e41fa02ca",
   "metadata": {},
   "outputs": [],
   "source": [
    "#Yes"
   ]
  }
 ],
 "metadata": {
  "kernelspec": {
   "display_name": "Python 3 (ipykernel)",
   "language": "python",
   "name": "python3"
  },
  "language_info": {
   "codemirror_mode": {
    "name": "ipython",
    "version": 3
   },
   "file_extension": ".py",
   "mimetype": "text/x-python",
   "name": "python",
   "nbconvert_exporter": "python",
   "pygments_lexer": "ipython3",
   "version": "3.10.6"
  }
 },
 "nbformat": 4,
 "nbformat_minor": 5
}
